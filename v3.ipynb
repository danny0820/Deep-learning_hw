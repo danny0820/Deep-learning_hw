{
 "cells": [
  {
   "cell_type": "markdown",
   "metadata": {
    "id": "jNUara7gg-Wo"
   },
   "source": [
    "# 2025 DL Lab3: Semi-Supervised Flower Classfication"
   ]
  },
  {
   "cell_type": "markdown",
   "metadata": {
    "id": "pVFSdNlBg-Wr"
   },
   "source": [
    "Before we start, please put **your name** and **SID** in following format: <br>\n",
    "Hi I'm 陸仁賈, 314831000."
   ]
  },
  {
   "cell_type": "markdown",
   "metadata": {
    "id": "aXhizSoQg-Ws"
   },
   "source": [
    "**Your Answer:**    \n",
    "Hi I'm 戴良育, 314834012."
   ]
  },
  {
   "cell_type": "markdown",
   "metadata": {
    "id": "gEyUf73Ag-Wt"
   },
   "source": [
    "## Semi-supervised Flower Classfication\n",
    "\n",
    "In this approach, you have a dataset that includes both labeled and unlabeled examples.\n",
    "\n",
    "The goal is to use the labeled data to train the model while also leveraging the unlabeled\n",
    "data to improve the model's performance.\n",
    "\n",
    "In this assignment, you’ll explore a self-training mechanism for this task.\n",
    "\n",
    "\n",
    "**Please note that you’re not allowed to use pre-constructed models or pre-trained weights.**"
   ]
  },
  {
   "cell_type": "markdown",
   "metadata": {
    "id": "9TQMhhODg-Wu"
   },
   "source": [
    "## Kaggle Competition\n",
    "Kaggle is an online community of data scientists and machine learning practitioners. Kaggle allows users to find and publish datasets, explore and build models in a web-based data-science environment, work with other data scientists and machine learning engineers, and enter competitions to solve data science challenges.\n",
    "\n",
    "This assignment use kaggle to calculate your grade.  \n",
    "Please use this [**LINK**](https://www.kaggle.com/t/a611e0096e5943cc99a1c0545be28c3c) to join the competition.\n"
   ]
  },
  {
   "cell_type": "markdown",
   "metadata": {
    "id": "3HIWWsPsg-Wv"
   },
   "source": [
    "##  Versions of used packages\n",
    "\n",
    "We will check PyTorch version to make sure everything work properly."
   ]
  },
  {
   "cell_type": "code",
   "execution_count": 1,
   "metadata": {
    "colab": {
     "base_uri": "https://localhost:8080/"
    },
    "id": "-TzquNaqg-Ww",
    "outputId": "418f4a60-e911-4edb-ca6a-1ce4aa342142"
   },
   "outputs": [
    {
     "name": "stdout",
     "output_type": "stream",
     "text": [
      "python 3.13.5 | packaged by Anaconda, Inc. | (main, Jun 12 2025, 16:37:03) [MSC v.1929 64 bit (AMD64)]\n",
      "torch 2.8.0+cu126\n",
      "torchvision 0.23.0+cu126\n"
     ]
    }
   ],
   "source": [
    "import sys\n",
    "import torch\n",
    "import torchvision\n",
    "print('python', sys.version.split('\\n')[0])\n",
    "print('torch', torch.__version__)\n",
    "print('torchvision', torchvision.__version__)"
   ]
  },
  {
   "cell_type": "code",
   "execution_count": 2,
   "metadata": {},
   "outputs": [
    {
     "name": "stdout",
     "output_type": "stream",
     "text": [
      "✅ OpenMP conflict workaround applied\n"
     ]
    }
   ],
   "source": [
    "# Fix OpenMP conflict issue (must be at the very beginning)\n",
    "import os\n",
    "os.environ['KMP_DUPLICATE_LIB_OK'] = 'TRUE'  # Workaround for OpenMP conflict\n",
    "print(\"✅ OpenMP conflict workaround applied\")"
   ]
  },
  {
   "cell_type": "markdown",
   "metadata": {
    "id": "hzu9D8_jg-Xd"
   },
   "source": [
    "# Prepare Data"
   ]
  },
  {
   "cell_type": "markdown",
   "metadata": {
    "id": "OmLG1fxtg-Xf"
   },
   "source": [
    "We use [Flowers Recognition](https://www.kaggle.com/alxmamaev/flowers-recognition) dataset.\n",
    "This is collected by Alexander Mamaev.\n",
    "\n",
    "**Abstrct**  \n",
    "\n",
    "We clean the dataset,this dataset contains 4262 flower images.   \n",
    "**IMPORTANT: you CANNOT use any extra images.**\n",
    "\n",
    "The data collection is grabed from the data flicr, google images, yandex images.\n",
    "You can use this datastet to recognize plants from the photo.\n",
    "\n",
    "The pictures are divided into five classes:\n",
    "+ daisy\n",
    "+ tulip\n",
    "+ rose\n",
    "+ sunflower\n",
    "+ dandelion\n",
    "\n",
    "For each class there are about 800 photos. Photos are not high resolution, about 320x240 pixels. Photos are not reduced to a single size, they have different proportions!"
   ]
  },
  {
   "cell_type": "markdown",
   "metadata": {
    "id": "06j-NW_xg-Xg"
   },
   "source": [
    "## Unzip Data\n",
    "\n",
    "Unzip `Lab3_data_flower_2025.zip`, there are 3 folders.\n",
    "\n",
    "- `train/`: 6 subfolders total.\n",
    "   - `daisy/`, `dandelion/`, `rose/`, `sunflower/`, `tulip/`: labeled training images.\n",
    "   - `unlabel/`: unlabeled training images.\n",
    "contains 6 folders for 5 categories of flowers. Images of flowers inside them.\n",
    "- `val/`: contains 5 folders for the same 5 classes. Labeled validation images for each class.\n",
    "- `test/`: unclassified images of testing set.\n",
    "---\n",
    "\n",
    "There are **1200 images in labeled training set.**  \n",
    "\n",
    "There are **1202 images in unlabeled training set.**\n",
    "\n",
    "There are **678 images in validation set.**\n",
    "\n",
    "There are **1215 images in test set.**  \n"
   ]
  },
  {
   "cell_type": "markdown",
   "metadata": {
    "id": "YqapE3HLg-Xg"
   },
   "source": [
    "## Loading the dataset"
   ]
  },
  {
   "cell_type": "code",
   "execution_count": 3,
   "metadata": {
    "id": "cl4ngyLNg-Xg"
   },
   "outputs": [],
   "source": [
    "data_folder = 'Lab3_data_flower_2025'"
   ]
  },
  {
   "cell_type": "markdown",
   "metadata": {
    "id": "IwRBft5Ig-Xh"
   },
   "source": [
    "### Custom dataset\n",
    "\n",
    "Build a classs inherit `torch.utils.data.Dataset`.  \n",
    "Implement `__init__`, `__getitem__` and `__len__` 3 functions.  \n",
    "\n",
    "Some operations could be there: setting location of dataset, the method of reading data, label of dataset or transform of dataset.\n",
    "\n",
    "See [torch.utils.data.Dataset](https://pytorch.org/docs/stable/data.html#torch.utils.data.Dataset) for more details"
   ]
  },
  {
   "cell_type": "code",
   "execution_count": 4,
   "metadata": {
    "id": "UahKTzvTg-Xh"
   },
   "outputs": [],
   "source": [
    "import csv\n",
    "import os.path as osp\n",
    "from pathlib import Path\n",
    "from PIL import Image\n",
    "import torch\n",
    "from torch.utils.data import DataLoader, Dataset, TensorDataset\n",
    "import pandas as pd\n",
    "\n",
    "CLASS_NAMES = ['daisy', 'dandelion', 'rose', 'sunflower', 'tulip']\n",
    "CLASS_TO_IDX = {c:i for i, c in enumerate(CLASS_NAMES)}\n",
    "VALID_EXTS = {'.jpg', '.jpeg', '.png', '.bmp', '.tif', '.tiff', '.webp'}\n",
    "\n",
    "class FlowerData(Dataset):\n",
    "    def __init__(self, root, split='train', mode='train', transform=None, use_unlabel=False):\n",
    "        self.root = Path(root)\n",
    "        self.split = split\n",
    "        self.mode = mode\n",
    "        self.transform = transform\n",
    "        self.use_unlabel = use_unlabel\n",
    "\n",
    "        self.paths = []\n",
    "        self.labels = []\n",
    "        self.rel_paths = []\n",
    "\n",
    "        # Load data from unified CSV files\n",
    "        if split == 'train' and use_unlabel:\n",
    "            csv_file = self.root / 'unlabeled_train.csv'\n",
    "        elif split == 'train':\n",
    "            csv_file = self.root / 'train.csv'\n",
    "        elif split == 'val':\n",
    "            csv_file = self.root / 'val.csv'\n",
    "        else:  # test\n",
    "            csv_file = self.root / 'test.csv'\n",
    "\n",
    "        # Read CSV file using pandas for better handling\n",
    "        df = pd.read_csv(csv_file)\n",
    "\n",
    "        for _, row in df.iterrows():\n",
    "            file_path = self.root / row['file_name']\n",
    "            self.paths.append(file_path)\n",
    "            self.rel_paths.append(row['file_name'])\n",
    "\n",
    "            # Handle labels\n",
    "            if split == 'test' or (split == 'train' and use_unlabel):\n",
    "                # No labels for test or unlabeled data\n",
    "                pass\n",
    "            else:\n",
    "                # For labeled data\n",
    "                if pd.isna(row['groundtruth']) or row['groundtruth'] == '':\n",
    "                    self.labels.append(-1)  # Invalid label for debugging\n",
    "                else:\n",
    "                    self.labels.append(CLASS_TO_IDX[row['groundtruth']])\n",
    "\n",
    "    @property\n",
    "    def targets(self):\n",
    "        \"\"\"Property for compatibility with WeightedRandomSampler\"\"\"\n",
    "        return self.labels\n",
    "\n",
    "    @property\n",
    "    def classes(self):\n",
    "        \"\"\"Property for compatibility with WeightedRandomSampler\"\"\"\n",
    "        return CLASS_NAMES\n",
    "\n",
    "    def __len__(self):\n",
    "        return len(self.paths)\n",
    "\n",
    "    def __getitem__(self, index):\n",
    "        img_path = self.paths[index]\n",
    "        img = Image.open(img_path).convert('RGB')\n",
    "        if self.transform is not None:\n",
    "            img = self.transform(img)\n",
    "\n",
    "        if self.mode == 'test' or (self.split == 'train' and self.use_unlabel):\n",
    "            return img\n",
    "        label = int(self.labels[index])\n",
    "        return img, torch.tensor(label, dtype=torch.long)"
   ]
  },
  {
   "cell_type": "markdown",
   "metadata": {},
   "source": [
    "## 資料預處理與分析\n",
    "\n",
    "### 📊 資料分析工具\n",
    "\n",
    "我們提供了獨立的資料分析工具 `analyze_data.py`，可以：\n",
    "\n",
    "- ✅ 分析所有資料集（train, val, test, unlabeled）\n",
    "- ✅ 生成類別分布圖表\n",
    "- ✅ 統計圖片尺寸資訊\n",
    "- ✅ 輸出詳細分析報告\n",
    "\n",
    "**使用方式**:\n",
    "```bash\n",
    "# 在終端機執行\n",
    "python analyze_data.py\n",
    "```\n",
    "\n",
    "**輸出檔案**:\n",
    "1. `class_distribution.png` - 類別分布圖\n",
    "2. `size_distribution.png` - 尺寸分布圖\n",
    "3. `analysis_summary.txt` - 文字摘要報告\n",
    "\n",
    "執行完畢後，可以根據分析結果來調整資料預處理策略。"
   ]
  },
  {
   "cell_type": "code",
   "execution_count": 6,
   "metadata": {},
   "outputs": [
    {
     "name": "stdout",
     "output_type": "stream",
     "text": [
      "類別權重計算結果:\n",
      "  daisy       : 1.4724\n",
      "  dandelion   : 0.6138\n",
      "  rose        : 1.3636\n",
      "  sunflower   : 1.7391\n",
      "  tulip       : 0.7229\n",
      "\n",
      "類別權重 Tensor: tensor([1.4724, 0.6138, 1.3636, 1.7391, 0.7229])\n",
      "✅ 將在訓練時使用這些權重來平衡損失函數\n"
     ]
    }
   ],
   "source": [
    "# 計算類別權重以處理類別不平衡問題\n",
    "import pandas as pd\n",
    "import torch\n",
    "from collections import Counter\n",
    "\n",
    "def compute_class_weights(csv_path, class_names):\n",
    "    \"\"\"\n",
    "    計算類別權重來處理不平衡資料集\n",
    "    公式: weight = total_samples / (n_classes * class_count)\n",
    "    \n",
    "    Args:\n",
    "        csv_path: 訓練資料 CSV 路徑\n",
    "        class_names: 類別名稱列表\n",
    "    \n",
    "    Returns:\n",
    "        weight_tensor: PyTorch tensor 格式的權重\n",
    "    \"\"\"\n",
    "    df = pd.read_csv(csv_path)\n",
    "    class_counts = df['groundtruth'].value_counts()\n",
    "    total = len(df)\n",
    "    n_classes = len(class_names)\n",
    "    \n",
    "    weights = {}\n",
    "    for cls in class_names:\n",
    "        count = class_counts.get(cls, 1)  # 避免除以零\n",
    "        weight = total / (n_classes * count)\n",
    "        weights[cls] = weight\n",
    "    \n",
    "    # 轉換為 tensor (按照 CLASS_NAMES 的順序)\n",
    "    weight_tensor = torch.tensor([weights[cls] for cls in class_names], dtype=torch.float32)\n",
    "    \n",
    "    print(\"類別權重計算結果:\")\n",
    "    for cls, weight in weights.items():\n",
    "        print(f\"  {cls:12s}: {weight:.4f}\")\n",
    "    \n",
    "    return weight_tensor\n",
    "\n",
    "\n",
    "# 計算訓練集的類別權重\n",
    "train_csv_path = f'{data_folder}/train.csv'\n",
    "class_weights = compute_class_weights(train_csv_path, CLASS_NAMES)\n",
    "print(f\"\\n類別權重 Tensor: {class_weights}\")\n",
    "print(\"✅ 將在訓練時使用這些權重來平衡損失函數\")"
   ]
  },
  {
   "cell_type": "markdown",
   "metadata": {},
   "source": [
    "### How to Use Class Weights\n",
    "\n",
    "Later when defining the loss function, you can use the computed class weights:\n",
    "\n",
    "```python\n",
    "# 不使用類別權重 (原始方式)\n",
    "criterion = nn.CrossEntropyLoss()\n",
    "\n",
    "# 使用類別權重 (推薦,處理類別不平衡)\n",
    "criterion = nn.CrossEntropyLoss(weight=class_weights.to(device))\n",
    "```\n",
    "\n",
    "This will give more importance to minority classes during training."
   ]
  },
  {
   "cell_type": "markdown",
   "metadata": {},
   "source": [
    "### 進階資料預處理技術\n",
    "\n",
    "基於資料分析結果，我們將實作以下技術：\n",
    "\n",
    "1. **加權隨機採樣器 (Weighted Random Sampler)** - 透過過採樣少數類別來解決類別不平衡\n",
    "2. **MixUp 資料增強** - 混合圖片創建合成樣本\n",
    "3. **CutMix 資料增強** - 替換圖片區域來增強模型泛化能力\n",
    "4. **漸進式調整大小 (Progressive Resizing)** - 從小圖開始訓練，逐漸增加尺寸\n",
    "\n",
    "這些技術已被證實能顯著提升模型的泛化能力。"
   ]
  },
  {
   "cell_type": "code",
   "execution_count": 7,
   "metadata": {},
   "outputs": [
    {
     "name": "stdout",
     "output_type": "stream",
     "text": [
      "✅ 加權採樣器函數已載入\n",
      "   稍後可在建立 DataLoader 時使用\n"
     ]
    }
   ],
   "source": [
    "import torch\n",
    "from torch.utils.data import WeightedRandomSampler\n",
    "from collections import Counter\n",
    "\n",
    "def create_weighted_sampler(dataset):\n",
    "    \"\"\"\n",
    "    建立加權隨機採樣器來處理類別不平衡\n",
    "    透過過採樣少數類別來平衡資料集\n",
    "    \"\"\"\n",
    "    # 從資料集取得標籤\n",
    "    labels = [label.item() if torch.is_tensor(label) else label for _, label in dataset]\n",
    "    \n",
    "    # 計算每個類別的樣本數\n",
    "    class_counts = Counter(labels)\n",
    "    print(\"原始類別分布:\")\n",
    "    for cls_idx, count in sorted(class_counts.items()):\n",
    "        print(f\"  類別 {CLASS_NAMES[cls_idx]:12s}: {count:4d} 個樣本\")\n",
    "    \n",
    "    # 計算每個樣本的權重\n",
    "    # 權重 = 1 / (該類別的樣本數)\n",
    "    class_weights_dict = {cls: 1.0 / count for cls, count in class_counts.items()}\n",
    "    sample_weights = [class_weights_dict[label] for label in labels]\n",
    "    \n",
    "    # 建立採樣器\n",
    "    sampler = WeightedRandomSampler(\n",
    "        weights=sample_weights,\n",
    "        num_samples=len(sample_weights),\n",
    "        replacement=True  # 允許過採樣（重複抽取）\n",
    "    )\n",
    "    \n",
    "    print(f\"\\n✅ 加權採樣器已建立，共 {len(sample_weights)} 個樣本\")\n",
    "    print(\"   少數類別將在訓練時被過採樣\")\n",
    "    \n",
    "    return sampler\n",
    "\n",
    "# 注意：此函數會在後面需要時才呼叫\n",
    "# 使用方式：weighted_sampler = create_weighted_sampler(train_set)\n",
    "print(\"✅ 加權採樣器函數已載入\")\n",
    "print(\"   稍後可在建立 DataLoader 時使用\")"
   ]
  },
  {
   "cell_type": "code",
   "execution_count": 9,
   "metadata": {},
   "outputs": [
    {
     "name": "stdout",
     "output_type": "stream",
     "text": [
      "✅ MixUp 資料增強函數已載入\n",
      "✅ CutMix 資料增強函數已載入\n",
      "\n",
      "這些函數將在訓練時用來提升模型穩健性\n",
      "建議參數：MixUp 使用 alpha=0.2，CutMix 使用 alpha=1.0\n"
     ]
    }
   ],
   "source": [
    "# MixUp 和 CutMix 輔助函數\n",
    "import torch\n",
    "import numpy as np\n",
    "\n",
    "def mixup_data(x, y, alpha=0.2):\n",
    "    \"\"\"\n",
    "    MixUp 資料增強：將兩個樣本混合\n",
    "    論文：Zhang et al., \"mixup: Beyond Empirical Risk Minimization\", ICLR 2018\n",
    "    \n",
    "    參數:\n",
    "        x: 輸入批次\n",
    "        y: 標籤\n",
    "        alpha: mixup 插值強度\n",
    "    \n",
    "    回傳:\n",
    "        混合後的輸入、目標對、以及 lambda\n",
    "    \"\"\"\n",
    "    if alpha > 0:\n",
    "        lam = np.random.beta(alpha, alpha)\n",
    "    else:\n",
    "        lam = 1\n",
    "\n",
    "    batch_size = x.size(0)\n",
    "    index = torch.randperm(batch_size).to(x.device)\n",
    "\n",
    "    mixed_x = lam * x + (1 - lam) * x[index, :]\n",
    "    y_a, y_b = y, y[index]\n",
    "    \n",
    "    return mixed_x, y_a, y_b, lam\n",
    "\n",
    "\n",
    "def mixup_criterion(criterion, pred, y_a, y_b, lam):\n",
    "    \"\"\"\n",
    "    MixUp 損失函數\n",
    "    \"\"\"\n",
    "    return lam * criterion(pred, y_a) + (1 - lam) * criterion(pred, y_b)\n",
    "\n",
    "\n",
    "def cutmix_data(x, y, alpha=1.0):\n",
    "    \"\"\"\n",
    "    CutMix 資料增強：在圖片間剪下並貼上區塊\n",
    "    論文：Yun et al., \"CutMix: Regularization Strategy to Train Strong Classifiers\", ICCV 2019\n",
    "    \n",
    "    相較於 MixUp 更能保留空間資訊\n",
    "    \"\"\"\n",
    "    if alpha > 0:\n",
    "        lam = np.random.beta(alpha, alpha)\n",
    "    else:\n",
    "        lam = 1\n",
    "\n",
    "    batch_size = x.size(0)\n",
    "    index = torch.randperm(batch_size).to(x.device)\n",
    "\n",
    "    # 取得邊界框\n",
    "    _, _, H, W = x.size()\n",
    "    cut_rat = np.sqrt(1. - lam)\n",
    "    cut_w = int(W * cut_rat)\n",
    "    cut_h = int(H * cut_rat)\n",
    "\n",
    "    # 均勻採樣\n",
    "    cx = np.random.randint(W)\n",
    "    cy = np.random.randint(H)\n",
    "\n",
    "    bbx1 = np.clip(cx - cut_w // 2, 0, W)\n",
    "    bby1 = np.clip(cy - cut_h // 2, 0, H)\n",
    "    bbx2 = np.clip(cx + cut_w // 2, 0, W)\n",
    "    bby2 = np.clip(cy + cut_h // 2, 0, H)\n",
    "\n",
    "    # 應用 CutMix\n",
    "    x[:, :, bby1:bby2, bbx1:bbx2] = x[index, :, bby1:bby2, bbx1:bbx2]\n",
    "    \n",
    "    # 根據實際面積比例調整 lambda\n",
    "    lam = 1 - ((bbx2 - bbx1) * (bby2 - bby1) / (W * H))\n",
    "    \n",
    "    y_a, y_b = y, y[index]\n",
    "    return x, y_a, y_b, lam\n",
    "\n",
    "\n",
    "# 測試函數\n",
    "print(\"✅ MixUp 資料增強函數已載入\")\n",
    "print(\"✅ CutMix 資料增強函數已載入\")\n",
    "print(\"\\n這些函數將在訓練時用來提升模型穩健性\")\n",
    "print(\"建議參數：MixUp 使用 alpha=0.2，CutMix 使用 alpha=1.0\")"
   ]
  },
  {
   "cell_type": "code",
   "execution_count": 17,
   "metadata": {},
   "outputs": [
    {
     "name": "stdout",
     "output_type": "stream",
     "text": [
      "✅ 增強版訓練函數（支援 MixUp/CutMix）已載入\n",
      "   呼叫時設定 use_mixup=True 和/或 use_cutmix=True 即可啟用\n"
     ]
    }
   ],
   "source": [
    "def train_with_augmentation(input_data, model, criterion, optimizer, \n",
    "                           use_mixup=False, use_cutmix=False, mixup_alpha=0.2, cutmix_alpha=1.0,\n",
    "                           epoch=None, total_epochs=None):\n",
    "    \"\"\"\n",
    "    支援 MixUp/CutMix 的增強版訓練函數\n",
    "    \n",
    "    參數:\n",
    "        use_mixup: 是否使用 MixUp 增強\n",
    "        use_cutmix: 是否使用 CutMix 增強\n",
    "        mixup_alpha: MixUp 插值強度 (建議 0.2)\n",
    "        cutmix_alpha: CutMix 插值強度 (建議 1.0)\n",
    "    \"\"\"\n",
    "    model.train()\n",
    "    loss_list = []\n",
    "    total_count = 0\n",
    "    acc_count = 0\n",
    "\n",
    "    desc = f\"訓練 | epoch {epoch}/{total_epochs}\" if epoch is not None else \"訓練\"\n",
    "    pbar = tqdm(input_data, desc=desc, leave=False)\n",
    "\n",
    "    for images, labels in pbar:\n",
    "        images = images.to(device)\n",
    "        labels = labels.to(device)\n",
    "        \n",
    "        # 決定是否應用資料增強（50% 機率）\n",
    "        use_aug = (use_mixup or use_cutmix) and np.random.rand() > 0.5\n",
    "        \n",
    "        if use_aug:\n",
    "            # 在 MixUp 和 CutMix 之間隨機選擇\n",
    "            if use_mixup and use_cutmix:\n",
    "                if np.random.rand() > 0.5:\n",
    "                    images, labels_a, labels_b, lam = mixup_data(images, labels, mixup_alpha)\n",
    "                else:\n",
    "                    images, labels_a, labels_b, lam = cutmix_data(images, labels, cutmix_alpha)\n",
    "            elif use_mixup:\n",
    "                images, labels_a, labels_b, lam = mixup_data(images, labels, mixup_alpha)\n",
    "            elif use_cutmix:\n",
    "                images, labels_a, labels_b, lam = cutmix_data(images, labels, cutmix_alpha)\n",
    "            \n",
    "            optimizer.zero_grad()\n",
    "            outputs = model(images)\n",
    "            loss = mixup_criterion(criterion, outputs, labels_a, labels_b, lam)\n",
    "            loss.backward()\n",
    "            optimizer.step()\n",
    "            \n",
    "            # 計算準確率時使用主要標籤\n",
    "            _, predicted = torch.max(outputs.data, 1)\n",
    "            total_count += labels.size(0)\n",
    "            # 使用加權組合近似準確率\n",
    "            acc_count += (lam * (predicted == labels_a).sum().item() + \n",
    "                         (1 - lam) * (predicted == labels_b).sum().item())\n",
    "        else:\n",
    "            # 標準訓練\n",
    "            optimizer.zero_grad()\n",
    "            outputs = model(images)\n",
    "            loss = criterion(outputs, labels)\n",
    "            loss.backward()\n",
    "            optimizer.step()\n",
    "            \n",
    "            _, predicted = torch.max(outputs.data, 1)\n",
    "            total_count += labels.size(0)\n",
    "            acc_count += (predicted == labels).sum().item()\n",
    "        \n",
    "        loss_list.append(loss.item())\n",
    "        \n",
    "        running_acc = acc_count / total_count if total_count else 0.0\n",
    "        lr = optimizer.param_groups[0]['lr']\n",
    "        pbar.set_postfix(loss=f\"{loss.item():.4f}\", acc=f\"{running_acc:.4f}\", lr=f\"{lr:.6f}\")\n",
    "\n",
    "    acc = acc_count / total_count if total_count else 0.0\n",
    "    loss = sum(loss_list) / len(loss_list) if loss_list else 0.0\n",
    "    return acc, loss\n",
    "\n",
    "\n",
    "print(\"✅ 增強版訓練函數（支援 MixUp/CutMix）已載入\")\n",
    "print(\"   呼叫時設定 use_mixup=True 和/或 use_cutmix=True 即可啟用\")"
   ]
  },
  {
   "cell_type": "markdown",
   "metadata": {},
   "source": [
    "### 測試新增功能\n",
    "\n",
    "讓我們測試所有新增的預處理功能是否正常運作："
   ]
  },
  {
   "cell_type": "code",
   "execution_count": 12,
   "metadata": {},
   "outputs": [
    {
     "name": "stdout",
     "output_type": "stream",
     "text": [
      "============================================================\n",
      "測試資料增強功能\n",
      "============================================================\n",
      "\n",
      "原始批次: torch.Size([4, 3, 224, 224]), 標籤: tensor([0, 1, 2, 3])\n",
      "\n",
      "✓ MixUp 測試通過\n",
      "  混合圖片: torch.Size([4, 3, 224, 224])\n",
      "  Lambda 值: 0.5933\n",
      "  標籤對: [0 1 2 3] 和 [3 2 1 0]\n",
      "\n",
      "✓ CutMix 測試通過\n",
      "  剪貼圖片: torch.Size([4, 3, 224, 224])\n",
      "  Lambda 值: 0.7447\n",
      "  標籤對: [0 1 2 3] 和 [3 2 1 0]\n",
      "\n",
      "============================================================\n",
      "✅ 所有資料增強功能測試通過！\n",
      "============================================================\n"
     ]
    }
   ],
   "source": [
    "# 測試 MixUp 和 CutMix 功能\n",
    "print(\"=\" * 60)\n",
    "print(\"測試資料增強功能\")\n",
    "print(\"=\" * 60)\n",
    "\n",
    "# 建立測試資料\n",
    "test_images = torch.randn(4, 3, 224, 224)\n",
    "test_labels = torch.tensor([0, 1, 2, 3])\n",
    "\n",
    "print(f\"\\n原始批次: {test_images.shape}, 標籤: {test_labels}\")\n",
    "\n",
    "# 測試 MixUp\n",
    "mixed_images, labels_a, labels_b, lam = mixup_data(test_images, test_labels, alpha=0.2)\n",
    "print(f\"\\n✓ MixUp 測試通過\")\n",
    "print(f\"  混合圖片: {mixed_images.shape}\")\n",
    "print(f\"  Lambda 值: {lam:.4f}\")\n",
    "print(f\"  標籤對: {labels_a.numpy()} 和 {labels_b.numpy()}\")\n",
    "\n",
    "# 測試 CutMix\n",
    "cut_images, labels_a, labels_b, lam = cutmix_data(test_images.clone(), test_labels, alpha=1.0)\n",
    "print(f\"\\n✓ CutMix 測試通過\")\n",
    "print(f\"  剪貼圖片: {cut_images.shape}\")\n",
    "print(f\"  Lambda 值: {lam:.4f}\")\n",
    "print(f\"  標籤對: {labels_a.numpy()} 和 {labels_b.numpy()}\")\n",
    "\n",
    "print(\"\\n\" + \"=\" * 60)\n",
    "print(\"✅ 所有資料增強功能測試通過！\")\n",
    "print(\"=\" * 60)"
   ]
  },
  {
   "cell_type": "markdown",
   "metadata": {
    "id": "B20CKxeig-Xj"
   },
   "source": [
    "### Data augmentation\n",
    "\n",
    "Data augmentation are techniques used to increase the amount of data by adding slightly modified copies of already existing data or newly created synthetic data from existing data.\n",
    "\n",
    "PyTorch use `torchvision.transforms` to do data augmentation.\n",
    "[You can see all function here.](https://docs.pytorch.org/vision/main/transforms.html)  \n",
    "\n",
    "There are some operations may not be necessary for predict, so we should write one for train and one for others.  \n",
    "**NOTICE**：Please use v2 instead of transform cause some of function in v1 will be removed in the following version pytorch."
   ]
  },
  {
   "cell_type": "code",
   "execution_count": 18,
   "metadata": {
    "id": "TtaoreYhg-Xk"
   },
   "outputs": [],
   "source": [
    "from torchvision.transforms import v2 as transforms\n",
    "# For TRAIN\n",
    "########################################################################\n",
    "#  TODO: use transforms.xxx method to do some data augmentation        #\n",
    "#  This one is for training, find the composition to get better result #\n",
    "########################################################################\n",
    "transforms_train = transforms.Compose([\n",
    "    # 隨機裁切與縮放，避免直接拉伸圖片\n",
    "    transforms.RandomResizedCrop(\n",
    "        size=224,\n",
    "        scale=(0.6, 1.0),           # 放寬取樣比例，讓視角更豐富\n",
    "        ratio=(0.75, 1.33),\n",
    "        antialias=True\n",
    "    ),\n",
    "    transforms.RandomHorizontalFlip(p=0.5),\n",
    "\n",
    "    # 自動增強：使用 TrivialAugmentWide 或 RandAugment（二者擇一）\n",
    "    transforms.TrivialAugmentWide(),\n",
    "    # 若版本不支援 TrivialAugmentWide，可用 RandAugment 代替：\n",
    "    # transforms.RandAugment(num_ops=2, magnitude=7),\n",
    "\n",
    "    # 色彩抖動：使用 RandomApply 包裹，避免每張都強度過高\n",
    "    transforms.RandomApply([\n",
    "        transforms.ColorJitter(brightness=0.4, contrast=0.4, saturation=0.4, hue=0.1)\n",
    "    ], p=0.5),\n",
    "\n",
    "    # 少量轉灰階，提高對顏色變化的穩健度\n",
    "    transforms.RandomGrayscale(p=0.05),\n",
    "\n",
    "    # 轉成 Tensor 並做正規化\n",
    "    transforms.ToImage(),\n",
    "    transforms.ToDtype(torch.float32, scale=True),\n",
    "    transforms.Normalize(mean=[0.485, 0.456, 0.406], std=[0.229, 0.224, 0.225]),\n",
    "\n",
    "    # 遮擋式正則：RandomErasing\n",
    "    transforms.RandomErasing(p=0.25, scale=(0.02, 0.12), ratio=(0.3, 3.3))\n",
    "])\n",
    "########################################################################\n",
    "#                           End of your code                           #\n",
    "########################################################################\n",
    "\n",
    "# For VAL, TEST\n",
    "########################################################################\n",
    "#  TODO: use transforms.xxx method to do some data augmentation        #\n",
    "#  This one is for validate and test,                                  #\n",
    "#  NOTICE some operation we usually not use in this part               #\n",
    "########################################################################\n",
    "transforms_test = transforms.Compose([\n",
    "    transforms.Resize(256, antialias=True),  # 維持長寬比\n",
    "    transforms.CenterCrop(224),\n",
    "    transforms.ToImage(),\n",
    "    transforms.ToDtype(torch.float32, scale=True),\n",
    "    transforms.Normalize(mean=[0.485, 0.456, 0.406], std=[0.229, 0.224, 0.225]),\n",
    "])\n",
    "########################################################################\n",
    "#                           End of your code                           #\n",
    "########################################################################"
   ]
  },
  {
   "cell_type": "markdown",
   "metadata": {
    "id": "F3vwqtuGg-Xk"
   },
   "source": [
    "### Instantiate dataset\n",
    "\n",
    "Let's instantiate three `FlowerData` class.\n",
    "+ train_set: for labeled_training.\n",
    "+ unlabeled_set: for unlabeled_training.\n",
    "+ dataset_val: for validation."
   ]
  },
  {
   "cell_type": "code",
   "execution_count": 19,
   "metadata": {
    "colab": {
     "base_uri": "https://localhost:8080/"
    },
    "id": "pEBdnX6vg-Xk",
    "outputId": "ac6e544d-08d9-45ea-ced6-8c4c3d536a91"
   },
   "outputs": [
    {
     "name": "stdout",
     "output_type": "stream",
     "text": [
      "The first image's shape in dataset_train : torch.Size([3, 224, 224])\n",
      "There are 1200 images in labeled_dataset_train.\n",
      "There are 1202 images in unlabeled_dataset_train.\n",
      "There are 678 images in dataset_val.\n",
      "\n",
      "Verifying data loading with new CSV format:\n",
      "Train set - first sample label: 0\n",
      "Train set - file path: train/daisy/14167534527_781ceb1b7a_n.jpg\n",
      "Unlabeled set - file path: train/unlabel/unlabel_51e2a07b21.jpg\n",
      "Val set - first sample label: 0\n",
      "Val set - file path: val/daisy/521762040_f26f2e08dd.jpg\n"
     ]
    }
   ],
   "source": [
    "train_set       = FlowerData(data_folder, split='train', mode='train', transform=transforms_train, use_unlabel=False)\n",
    "unlabeled_set   = FlowerData(data_folder, split='train', mode='test',  transform=transforms_test,  use_unlabel=True)  # train/unlabel\n",
    "valid_set       = FlowerData(data_folder, split='val',   mode='train', transform=transforms_test,  use_unlabel=False)\n",
    "\n",
    "num_classes = len(CLASS_NAMES)\n",
    "print(\"The first image's shape in dataset_train :\", train_set[0][0].size())\n",
    "print(\"There are\", len(train_set), \"images in labeled_dataset_train.\")\n",
    "print(\"There are\", len(unlabeled_set), \"images in unlabeled_dataset_train.\")\n",
    "print(\"There are\", len(valid_set), \"images in dataset_val.\")\n",
    "\n",
    "# Verify the new format by checking a few samples\n",
    "print(\"\\nVerifying data loading with new CSV format:\")\n",
    "print(\"Train set - first sample label:\", train_set[0][1].item() if len(train_set) > 0 else \"No data\")\n",
    "print(\"Train set - file path:\", train_set.rel_paths[0] if len(train_set) > 0 else \"No data\")\n",
    "print(\"Unlabeled set - file path:\", unlabeled_set.rel_paths[0] if len(unlabeled_set) > 0 else \"No data\")\n",
    "print(\"Val set - first sample label:\", valid_set[0][1].item() if len(valid_set) > 0 else \"No data\")\n",
    "print(\"Val set - file path:\", valid_set.rel_paths[0] if len(valid_set) > 0 else \"No data\")"
   ]
  },
  {
   "cell_type": "markdown",
   "metadata": {
    "id": "Jxg6uZ2Fg-Xk"
   },
   "source": [
    "### DataLoader\n",
    "\n",
    "`torch.utils.data.DataLoader` define how to sample from `dataset` and some other function like:\n",
    "+ shuffle : set to `True` to have the data reshuffled at every epoch\n",
    "+ batch_size : how many samples per batch to load\n",
    "\n",
    "See [torch.utils.data.DataLoader](https://pytorch.org/docs/stable/data.html#torch.utils.data.DataLoader) for more details"
   ]
  },
  {
   "cell_type": "code",
   "execution_count": 22,
   "metadata": {
    "id": "N1SYf10fg-Xk"
   },
   "outputs": [],
   "source": [
    "import numpy as np\n",
    "import torch\n",
    "from torch.utils.data import DataLoader, WeightedRandomSampler\n",
    "\n",
    "batch_size   = 64\n",
    "num_workers  = 0   # 先設 0 保證不卡\n",
    "\n",
    "# 1) 取標籤（確保是 int）\n",
    "targets = np.asarray(getattr(train_set, \"labels\"), dtype=np.int64)\n",
    "num_classes  = len(getattr(train_set, \"classes\", []))\n",
    "\n",
    "# 2) 類別計數/權重\n",
    "class_counts  = np.bincount(targets, minlength=num_classes)\n",
    "class_counts  = np.clip(class_counts, 1, None)\n",
    "class_weights = 1.0 / class_counts\n",
    "class_weights = class_weights * (num_classes / class_weights.sum())\n",
    "class_weights_t = torch.tensor(class_weights, dtype=torch.float32)\n",
    "\n",
    "# 3) 採樣器（先不設 generator）\n",
    "sample_weights = class_weights[targets]\n",
    "weighted_sampler = WeightedRandomSampler(\n",
    "    weights=torch.as_tensor(sample_weights, dtype=torch.double),\n",
    "    num_samples=len(sample_weights),\n",
    "    replacement=True\n",
    ")\n",
    "\n",
    "train_loader = DataLoader(\n",
    "    train_set,\n",
    "    batch_size=batch_size,\n",
    "    sampler=weighted_sampler,    # << 關鍵：真的掛上去\n",
    "    drop_last=True,\n",
    "    num_workers=num_workers,\n",
    "    pin_memory=torch.cuda.is_available()\n",
    ")\n",
    "val_loader   = DataLoader(valid_set, shuffle=False, pin_memory=torch.cuda.is_available())\n"
   ]
  },
  {
   "cell_type": "markdown",
   "metadata": {},
   "source": [
    "### 選項：使用加權採樣器\n",
    "\n",
    "如果您想使用加權隨機採樣而非在損失函數中使用類別權重：\n",
    "\n",
    "```python\n",
    "# 首先建立加權採樣器\n",
    "weighted_sampler = create_weighted_sampler(train_set)\n",
    "\n",
    "# 然後用它替換 train_loader 的定義：\n",
    "train_loader = DataLoader(\n",
    "    train_set, \n",
    "    batch_size=batch_size,\n",
    "    sampler=weighted_sampler,  # 使用加權採樣器\n",
    "    num_workers=num_workers,\n",
    "    drop_last=True,\n",
    "    pin_memory=torch.cuda.is_available()\n",
    ")\n",
    "```\n",
    "\n",
    "**注意**：使用 sampler 時必須設定 `shuffle=False`（兩者互斥）。  \n",
    "**目前設定**：我們在損失函數中使用類別權重，這樣更簡單且同樣有效。"
   ]
  },
  {
   "cell_type": "markdown",
   "metadata": {
    "id": "GXWHwfKWg-Xl"
   },
   "source": [
    "Finally! We have made all data prepared.  \n",
    "Let's go develop our model."
   ]
  },
  {
   "cell_type": "markdown",
   "metadata": {
    "id": "hbci5FYUg-Xl"
   },
   "source": [
    "# Self-training"
   ]
  },
  {
   "cell_type": "markdown",
   "metadata": {
    "id": "4IG5dXyEg-Xl"
   },
   "source": [
    "## Step 1: Supervised training"
   ]
  },
  {
   "cell_type": "markdown",
   "metadata": {
    "id": "evToJigsg-Xl"
   },
   "source": [
    "### Implement CNN using PyTorch\n",
    "\n",
    "Try to use labeled data design and train a deep convolutional network from scratch to predict the class label of a flower image.\n",
    "\n",
    "**Again, the goal of this assignment is for you to test different convolutional structures. You cannot directly use the blocks/architectures of pre-trained models.**"
   ]
  },
  {
   "cell_type": "code",
   "execution_count": 23,
   "metadata": {
    "id": "Jnfnpc4dMH8d"
   },
   "outputs": [],
   "source": [
    "\n",
    "import torch\n",
    "import torch.nn as nn\n",
    "\n",
    "# class BasicBlock(nn.Module):\n",
    "#     \"\"\"\n",
    "#     ResNet BasicBlock\n",
    "#     \"\"\"\n",
    "#     expansion = 1\n",
    "#     def __init__(self, in_c, out_c, stride=1, downsample=None):\n",
    "#         super().__init__()\n",
    "#         self.conv1 = nn.Conv2d(in_c, out_c, 3, stride, 1, bias=False)\n",
    "#         self.bn1   = nn.BatchNorm2d(out_c)\n",
    "#         self.relu  = nn.ReLU(inplace=True)\n",
    "#         self.conv2 = nn.Conv2d(out_c, out_c, 3, 1, 1, bias=False)\n",
    "#         self.bn2   = nn.BatchNorm2d(out_c)\n",
    "#         self.downsample = downsample\n",
    "\n",
    "#     def forward(self, x):\n",
    "#         identity = x\n",
    "#         out = self.relu(self.bn1(self.conv1(x)))\n",
    "#         out = self.bn2(self.conv2(out))\n",
    "#         if self.downsample is not None:\n",
    "#             identity = self.downsample(x)\n",
    "#         out = self.relu(out + identity)\n",
    "#         return out\n",
    "\n",
    "\n",
    "# def make_layer(in_c, out_c, blocks, stride):\n",
    "#     \"\"\"\n",
    "#     創建 ResNet layer\n",
    "#     \"\"\"\n",
    "#     down = None\n",
    "#     if stride != 1 or in_c != out_c:\n",
    "#         down = nn.Sequential(\n",
    "#             nn.Conv2d(in_c, out_c, 1, stride, bias=False),\n",
    "#             nn.BatchNorm2d(out_c)\n",
    "#         )\n",
    "#     layers = [BasicBlock(in_c, out_c, stride, down)]\n",
    "#     for _ in range(1, blocks):\n",
    "#         layers.append(BasicBlock(out_c, out_c))\n",
    "#     return nn.Sequential(*layers)\n",
    "\n",
    "# class ResNet34(nn.Module):\n",
    "#     \"\"\"\n",
    "#     ResNet34 架構\n",
    "#     Layer 結構：[3, 4, 6, 3] blocks\n",
    "#     相比 ResNet18 的 [2, 2, 2, 2]，ResNet34 有更深的網路\n",
    "#     \"\"\"\n",
    "#     def __init__(self, num_classes=5):\n",
    "#         super().__init__()\n",
    "#         self.stem = nn.Sequential(\n",
    "#             nn.Conv2d(3, 64, kernel_size=7, stride=2, padding=3, bias=False),\n",
    "#             nn.BatchNorm2d(64),\n",
    "#             nn.ReLU(inplace=True),\n",
    "#             nn.MaxPool2d(kernel_size=3, stride=2, padding=1),\n",
    "#         )\n",
    "#         # ResNet34: [3, 4, 6, 3] blocks (vs ResNet18: [2, 2, 2, 2])\n",
    "#         self.layer1 = make_layer(64,   64,  blocks=3, stride=1)\n",
    "#         self.layer2 = make_layer(64,   128, blocks=4, stride=2)\n",
    "#         self.layer3 = make_layer(128,  256, blocks=6, stride=2)\n",
    "#         self.layer4 = make_layer(256,  512, blocks=3, stride=2)\n",
    "#         self.avgpool = nn.AdaptiveAvgPool2d(1)\n",
    "#         self.head = nn.Sequential(\n",
    "#             nn.Flatten(),\n",
    "#             nn.Linear(512, num_classes)\n",
    "#         )\n",
    "\n",
    "#         # Kaiming 初始化\n",
    "#         for m in self.modules():\n",
    "#             if isinstance(m, nn.Conv2d):\n",
    "#                 nn.init.kaiming_normal_(m.weight, mode='fan_out', nonlinearity='relu')\n",
    "#             elif isinstance(m, (nn.BatchNorm2d, nn.BatchNorm1d)):\n",
    "#                 nn.init.constant_(m.weight, 1); nn.init.constant_(m.bias, 0)\n",
    "#             elif isinstance(m, nn.Linear):\n",
    "#                 nn.init.normal_(m.weight, 0, 0.01); nn.init.constant_(m.bias, 0)\n",
    "\n",
    "#     def forward(self, x):\n",
    "#         x = self.stem(x)\n",
    "#         x = self.layer1(x); x = self.layer2(x); x = self.layer3(x); x = self.layer4(x)\n",
    "#         x = self.avgpool(x)\n",
    "#         return self.head(x)\n",
    "\n",
    "class BasicBlock(nn.Module):\n",
    "    \"\"\"\n",
    "    ResNet BasicBlock\n",
    "    完全對應 v2.py line 307-326\n",
    "    \"\"\"\n",
    "    expansion = 1\n",
    "    def __init__(self, in_c, out_c, stride=1, downsample=None):\n",
    "        super().__init__()\n",
    "        self.conv1 = nn.Conv2d(in_c, out_c, 3, stride, 1, bias=False)\n",
    "        self.bn1   = nn.BatchNorm2d(out_c)\n",
    "        self.relu  = nn.ReLU(inplace=True)\n",
    "        self.conv2 = nn.Conv2d(out_c, out_c, 3, 1, 1, bias=False)\n",
    "        self.bn2   = nn.BatchNorm2d(out_c)\n",
    "        self.downsample = downsample\n",
    "\n",
    "    def forward(self, x):\n",
    "        identity = x\n",
    "        out = self.relu(self.bn1(self.conv1(x)))\n",
    "        out = self.bn2(self.conv2(out))\n",
    "        if self.downsample is not None:\n",
    "            identity = self.downsample(x)\n",
    "        out = self.relu(out + identity)\n",
    "        return out\n",
    "\n",
    "\n",
    "def make_layer(in_c, out_c, blocks, stride):\n",
    "    \"\"\"\n",
    "    創建 ResNet layer\n",
    "    完全對應 v2.py line 327-338\n",
    "    \"\"\"\n",
    "    down = None\n",
    "    if stride != 1 or in_c != out_c:\n",
    "        down = nn.Sequential(\n",
    "            nn.Conv2d(in_c, out_c, 1, stride, bias=False),\n",
    "            nn.BatchNorm2d(out_c)\n",
    "        )\n",
    "    layers = [BasicBlock(in_c, out_c, stride, down)]\n",
    "    for _ in range(1, blocks):\n",
    "        layers.append(BasicBlock(out_c, out_c))\n",
    "    return nn.Sequential(*layers)\n",
    "\n",
    "class ResNet18(nn.Module):\n",
    "    \"\"\"\n",
    "    標準 ResNet18（不依賴 torchvision.models）\n",
    "    結構：7x7 stem -> [64,128,256,512] blocks x2 -> GAP -> FC\n",
    "    \"\"\"\n",
    "    def __init__(self, num_classes=5):\n",
    "        super().__init__()\n",
    "        self.stem = nn.Sequential(\n",
    "            nn.Conv2d(3, 64, kernel_size=7, stride=2, padding=3, bias=False),\n",
    "            nn.BatchNorm2d(64),\n",
    "            nn.ReLU(inplace=True),\n",
    "            nn.MaxPool2d(kernel_size=3, stride=2, padding=1),\n",
    "        )\n",
    "        self.layer1 = make_layer(64,   64,  blocks=2, stride=1)\n",
    "        self.layer2 = make_layer(64,   128, blocks=2, stride=2)\n",
    "        self.layer3 = make_layer(128,  256, blocks=2, stride=2)\n",
    "        self.layer4 = make_layer(256,  512, blocks=2, stride=2)\n",
    "        self.avgpool = nn.AdaptiveAvgPool2d(1)\n",
    "        self.head = nn.Sequential(\n",
    "            nn.Flatten(),\n",
    "            nn.Linear(512, num_classes)\n",
    "        )\n",
    "\n",
    "        # Kaiming 初始化\n",
    "        for m in self.modules():\n",
    "            if isinstance(m, nn.Conv2d):\n",
    "                nn.init.kaiming_normal_(m.weight, mode='fan_out', nonlinearity='relu')\n",
    "            elif isinstance(m, (nn.BatchNorm2d, nn.BatchNorm1d)):\n",
    "                nn.init.constant_(m.weight, 1); nn.init.constant_(m.bias, 0)\n",
    "            elif isinstance(m, nn.Linear):\n",
    "                nn.init.normal_(m.weight, 0, 0.01); nn.init.constant_(m.bias, 0)\n",
    "\n",
    "    def forward(self, x):\n",
    "        x = self.stem(x)\n",
    "        x = self.layer1(x); x = self.layer2(x); x = self.layer3(x); x = self.layer4(x)\n",
    "        x = self.avgpool(x)\n",
    "        return self.head(x)\n",
    "\n"
   ]
  },
  {
   "cell_type": "code",
   "execution_count": 24,
   "metadata": {
    "id": "kDP3qUpJg-Xl"
   },
   "outputs": [],
   "source": [
    "from torch.nn.modules.conv import Conv2d\n",
    "import torch.nn as nn\n",
    "import torch.nn.functional as F\n",
    "class YourCNNModel(nn.Module):\n",
    "    def __init__(self, num_classes=5):\n",
    "        super().__init__()\n",
    "        ########################################################################\n",
    "        #     TODO: use nn.xxx method to generate a CNN model part             #\n",
    "        ########################################################################\n",
    "        self.model = ResNet18(num_classes=num_classes)  # 改用 ResNet34\n",
    "        ########################################################################\n",
    "        #                           End of your code                           #\n",
    "        ########################################################################\n",
    "\n",
    "    def forward(self, x):\n",
    "        assert isinstance(x, torch.Tensor), \"Input should be a torch Tensor\"\n",
    "        assert x.dim() == 4, \"Input should be NHWC format\"\n",
    "        ########################################################################\n",
    "        #     TODO: forward your model and get output                          #\n",
    "        ########################################################################\n",
    "        out = self.model(x)\n",
    "        ########################################################################\n",
    "        #                           End of your code                           #\n",
    "        ########################################################################\n",
    "        return out"
   ]
  },
  {
   "cell_type": "code",
   "execution_count": 25,
   "metadata": {
    "id": "X3XF1I4Kg-Xl"
   },
   "outputs": [],
   "source": [
    "device = torch.device('cuda')\n",
    "# or\n",
    "# device = torch.device('cpu')"
   ]
  },
  {
   "cell_type": "code",
   "execution_count": 26,
   "metadata": {
    "id": "fQnLfLE-g-Xm"
   },
   "outputs": [],
   "source": [
    "model = YourCNNModel(num_classes=num_classes)\n",
    "model = model.to(device)"
   ]
  },
  {
   "cell_type": "markdown",
   "metadata": {
    "id": "n4E5AWe7g-Xm"
   },
   "source": [
    "We have made our model!  \n",
    "Next, PyTorch also provide many utility function(loss, optmizer...etc).  \n",
    "You can define them in one-line."
   ]
  },
  {
   "cell_type": "markdown",
   "metadata": {
    "id": "sKahIOXpg-Xm"
   },
   "source": [
    "### Define loss and optimizer "
   ]
  },
  {
   "cell_type": "markdown",
   "metadata": {
    "id": "ElzcjoYE-bl1"
   },
   "source": [
    "[Optimizers in pytorch](https://docs.pytorch.org/docs/stable/optim.html)  \n",
    "[CrossEntropyLoss in pytorch](https://docs.pytorch.org/docs/stable/generated/torch.nn.CrossEntropyLoss.html)"
   ]
  },
  {
   "cell_type": "code",
   "execution_count": 27,
   "metadata": {
    "id": "abaxdaMig-Xm"
   },
   "outputs": [
    {
     "name": "stdout",
     "output_type": "stream",
     "text": [
      "Loss function configured with class weights to handle data imbalance\n"
     ]
    }
   ],
   "source": [
    "import torch.nn as nn\n",
    "import torch.optim as optim\n",
    "################################################################################\n",
    "# TODO: Define loss and optmizer functions                                     #\n",
    "# Try any loss or optimizer function and learning rate to get better result    #\n",
    "# hint: torch.nn and torch.optim                                               #\n",
    "################################################################################\n",
    "# Use class weights to handle class imbalance (computed in preprocessing)\n",
    "class_weights_t = torch.tensor(class_weights, dtype=torch.float32, device=device)\n",
    "criterion = nn.CrossEntropyLoss(\n",
    "    weight=class_weights_t,  # Use computed class weights\n",
    "    label_smoothing=0.1      # Add label smoothing to prevent overfitting\n",
    ")\n",
    "optimizer = optim.AdamW(model.parameters(), lr=0.0015, weight_decay=1e-4)\n",
    "################################################################################\n",
    "#                               End of your code                               #\n",
    "################################################################################\n",
    "criterion = criterion.to(device)\n",
    "print(\"Loss function configured with class weights to handle data imbalance\")"
   ]
  },
  {
   "cell_type": "markdown",
   "metadata": {
    "id": "PQMKutOKg-Xn"
   },
   "source": [
    "### Train the model"
   ]
  },
  {
   "cell_type": "markdown",
   "metadata": {
    "id": "vaC0C1H3g-Xn"
   },
   "source": [
    "#### Train function\n",
    "Let's define train function.  \n",
    "It will iterate input data 1 epoch and update model with optmizer.  \n",
    "Finally, calculate mean loss and total accuracy.\n",
    "\n",
    "Hint: [torch.max()](https://pytorch.org/docs/stable/generated/torch.max.html#torch-max) or [torch.argmax()](https://pytorch.org/docs/stable/generated/torch.argmax.html)"
   ]
  },
  {
   "cell_type": "code",
   "execution_count": 29,
   "metadata": {
    "id": "RyNN_Sd6g-Xo"
   },
   "outputs": [],
   "source": [
    "from tqdm import tqdm\n",
    "import torch\n",
    "\n",
    "def train(input_data, model, criterion, optimizer, epoch=None, total_epochs=None):\n",
    "    '''\n",
    "    Argement:\n",
    "    input_data -- iterable data, typr torch.utils.data.Dataloader is prefer\n",
    "    model -- nn.Module, model contain forward to predict output\n",
    "    criterion -- loss function, used to evaluate goodness of model\n",
    "    optimizer -- optmizer function, method for weight updating\n",
    "    '''\n",
    "    model.train()\n",
    "    loss_list = []\n",
    "    total_count = 0\n",
    "    acc_count = 0\n",
    "\n",
    "    desc = f\"Train | epoch {epoch}/{total_epochs}\" if epoch is not None else \"Train\"\n",
    "    pbar = tqdm(input_data, desc=desc, leave=False)\n",
    "\n",
    "    for images, labels in pbar:\n",
    "        images = images.to(device)\n",
    "        labels = labels.to(device)\n",
    "\n",
    "        ########################################################################\n",
    "        # TODO: Forward, backward and optimize                                 #\n",
    "        # 1. zero the parameter gradients                                      #\n",
    "        # 2. process input through the network                                 #\n",
    "        # 3. compute the loss                                                  #\n",
    "        # 4. propagate gradients back into the network's parameters            #\n",
    "        # 5. Update the weights of the network                                 #\n",
    "        ########################################################################\n",
    "        optimizer.zero_grad()  # 1. 清空梯度\n",
    "        outputs = model(images)  # 2. 前向傳播，通過網路處理輸入\n",
    "        loss = criterion(outputs, labels)  # 3. 計算損失\n",
    "        loss.backward()  # 4. 反向傳播，計算梯度\n",
    "        optimizer.step()  # 5. 更新網路權重\n",
    "        ########################################################################\n",
    "        #                           End of your code                           #\n",
    "        ########################################################################\n",
    "\n",
    "\n",
    "        ########################################################################\n",
    "        # TODO: Get the counts of correctly classified images                  #\n",
    "        # 1. get the model predicted result                                    #\n",
    "        # 2. sum the number of this batch predicted images                     #\n",
    "        # 3. sum the number of correctly classified                            #\n",
    "        # 4. save this batch's loss into loss_list                             #\n",
    "        # dimension of outputs: [batch_size, number of classes]                #\n",
    "        # Hint 1: use outputs.data to get no auto_grad                         #\n",
    "        # Hint 2: use torch.max()                                              #\n",
    "        ########################################################################\n",
    "        _, predicted = torch.max(outputs.data, 1)  # 1. 獲取預測結果（最大值的索引）\n",
    "        total_count += labels.size(0)  # 2. 累加此批次的圖片數量\n",
    "        acc_count += (predicted == labels).sum().item()  # 3. 累加正確分類的數量\n",
    "        loss_list.append(loss.item())  # 4. 將此批次的損失加入列表\n",
    "        ########################################################################\n",
    "        #                           End of your code                           #\n",
    "        ########################################################################\n",
    "\n",
    "        running_acc = acc_count / total_count if total_count else 0.0\n",
    "        lr = optimizer.param_groups[0]['lr']\n",
    "        pbar.set_postfix(loss=f\"{loss.item():.4f}\", acc=f\"{running_acc:.4f}\", lr=f\"{lr:.6f}\")\n",
    "\n",
    "    acc  = acc_count / total_count if total_count else 0.0\n",
    "    loss = sum(loss_list) / len(loss_list) if loss_list else 0.0\n",
    "    return acc, loss"
   ]
  },
  {
   "cell_type": "markdown",
   "metadata": {
    "id": "lLlLua9og-Xo"
   },
   "source": [
    "#### Validate function\n",
    "Next part is validate function.  \n",
    "It works as training function without optmizer and weight-updating part."
   ]
  },
  {
   "cell_type": "code",
   "execution_count": 30,
   "metadata": {
    "id": "EkLMA_0qg-Xo"
   },
   "outputs": [],
   "source": [
    "def val(input_data, model, criterion, epoch=None, total_epochs=None):\n",
    "    model.eval()\n",
    "    loss_list = []\n",
    "    total_count = 0\n",
    "    acc_count = 0\n",
    "\n",
    "    desc = f\"Val   | epoch {epoch}/{total_epochs}\" if epoch is not None else \"Val\"\n",
    "    pbar = tqdm(input_data, desc=desc, leave=False)\n",
    "\n",
    "    with torch.no_grad():\n",
    "        for images, labels in pbar:\n",
    "            images = images.to(device)\n",
    "            labels = labels.to(device)\n",
    "\n",
    "            ####################################################################\n",
    "            # TODO: Get the predicted result and loss                          #\n",
    "            # 1. process input through the network                             #\n",
    "            # 2. compute the loss                                              #\n",
    "            # 3. get the model predicted result                                #\n",
    "            # 4. get the counts of correctly classified images                 #\n",
    "            # 5. save this batch's loss into loss_list                         #\n",
    "            ####################################################################\n",
    "            outputs = model(images)  # 1. 前向傳播\n",
    "            loss = criterion(outputs, labels)  # 2. 計算損失\n",
    "            _, predicted = torch.max(outputs.data, 1)  # 3. 獲取預測結果\n",
    "\n",
    "            total_count += labels.size(0)  # 4. 累加圖片數量\n",
    "            acc_count += (predicted == labels).sum().item()  # 4. 累加正確分類數量\n",
    "            loss_list.append(loss.item())  # 5. 儲存損失\n",
    "            ####################################################################\n",
    "            #                         End of your code                         #\n",
    "            ####################################################################\n",
    "\n",
    "            running_acc = acc_count / total_count if total_count else 0.0\n",
    "            pbar.set_postfix(loss=f\"{loss.item():.4f}\", acc=f\"{running_acc:.4f}\")\n",
    "\n",
    "    acc  = acc_count / total_count if total_count else 0.0\n",
    "    loss = sum(loss_list) / len(loss_list) if loss_list else 0.0\n",
    "    return acc, loss"
   ]
  },
  {
   "cell_type": "markdown",
   "metadata": {
    "id": "gOgqxiYVg-Xo"
   },
   "source": [
    "#### Training in a loop\n",
    "Call train and test function in a loop.  \n",
    "Take a break and wait."
   ]
  },
  {
   "cell_type": "code",
   "execution_count": 31,
   "metadata": {
    "colab": {
     "base_uri": "https://localhost:8080/"
    },
    "id": "_km16H9-g-Xp",
    "outputId": "a048c2d6-9b0c-4ec5-ad0f-0ad218b6c7d2"
   },
   "outputs": [
    {
     "name": "stderr",
     "output_type": "stream",
     "text": [
      "                                                                                                         \r"
     ]
    },
    {
     "name": "stdout",
     "output_type": "stream",
     "text": [
      "[Best updated] Saved checkpoint: supervised.pt (val_loss=6.426674)\n"
     ]
    },
    {
     "name": "stderr",
     "output_type": "stream",
     "text": [
      "                                                                                                         \r"
     ]
    },
    {
     "name": "stdout",
     "output_type": "stream",
     "text": [
      "[Best updated] Saved checkpoint: supervised.pt (val_loss=1.617430)\n"
     ]
    },
    {
     "name": "stderr",
     "output_type": "stream",
     "text": [
      "                                                                                                         \r"
     ]
    },
    {
     "name": "stdout",
     "output_type": "stream",
     "text": [
      "[Best updated] Saved checkpoint: supervised.pt (val_loss=1.509497)\n"
     ]
    },
    {
     "name": "stderr",
     "output_type": "stream",
     "text": [
      "                                                                                                         \r"
     ]
    },
    {
     "name": "stdout",
     "output_type": "stream",
     "text": [
      "[Best updated] Saved checkpoint: supervised.pt (val_loss=1.500229)\n"
     ]
    },
    {
     "name": "stderr",
     "output_type": "stream",
     "text": [
      "                                                                                                          \r"
     ]
    },
    {
     "name": "stdout",
     "output_type": "stream",
     "text": [
      "[Best updated] Saved checkpoint: supervised.pt (val_loss=1.440206)\n",
      "==================== Epoch 10/130 ====================\n",
      "Train Acc: 0.427083 | Train Loss: 1.265863\n",
      "  Val Acc: 0.392330 |   Val Loss: 1.440206 | LR: 0.001483\n"
     ]
    },
    {
     "name": "stderr",
     "output_type": "stream",
     "text": [
      "                                                                                                          \r"
     ]
    },
    {
     "name": "stdout",
     "output_type": "stream",
     "text": [
      "[Best updated] Saved checkpoint: supervised.pt (val_loss=1.366492)\n"
     ]
    },
    {
     "name": "stderr",
     "output_type": "stream",
     "text": [
      "                                                                                                          \r"
     ]
    },
    {
     "name": "stdout",
     "output_type": "stream",
     "text": [
      "[Best updated] Saved checkpoint: supervised.pt (val_loss=1.346336)\n"
     ]
    },
    {
     "name": "stderr",
     "output_type": "stream",
     "text": [
      "                                                                                                          \r"
     ]
    },
    {
     "name": "stdout",
     "output_type": "stream",
     "text": [
      "[Best updated] Saved checkpoint: supervised.pt (val_loss=1.296591)\n",
      "==================== Epoch 20/130 ====================\n",
      "Train Acc: 0.458333 | Train Loss: 1.214425\n",
      "  Val Acc: 0.529499 |   Val Loss: 1.296591 | LR: 0.001431\n"
     ]
    },
    {
     "name": "stderr",
     "output_type": "stream",
     "text": [
      "                                                                                                          \r"
     ]
    },
    {
     "name": "stdout",
     "output_type": "stream",
     "text": [
      "[Best updated] Saved checkpoint: supervised.pt (val_loss=1.288581)\n"
     ]
    },
    {
     "name": "stderr",
     "output_type": "stream",
     "text": [
      "                                                                                                          \r"
     ]
    },
    {
     "name": "stdout",
     "output_type": "stream",
     "text": [
      "[Best updated] Saved checkpoint: supervised.pt (val_loss=1.216919)\n",
      "==================== Epoch 30/130 ====================\n",
      "Train Acc: 0.528646 | Train Loss: 1.128428\n",
      "  Val Acc: 0.585546 |   Val Loss: 1.216919 | LR: 0.001349\n"
     ]
    },
    {
     "name": "stderr",
     "output_type": "stream",
     "text": [
      "                                                                                                          \r"
     ]
    },
    {
     "name": "stdout",
     "output_type": "stream",
     "text": [
      "[Best updated] Saved checkpoint: supervised.pt (val_loss=1.204669)\n"
     ]
    },
    {
     "name": "stderr",
     "output_type": "stream",
     "text": [
      "                                                                                                          \r"
     ]
    },
    {
     "name": "stdout",
     "output_type": "stream",
     "text": [
      "[Best updated] Saved checkpoint: supervised.pt (val_loss=1.203555)\n"
     ]
    },
    {
     "name": "stderr",
     "output_type": "stream",
     "text": [
      "                                                                                                          \r"
     ]
    },
    {
     "name": "stdout",
     "output_type": "stream",
     "text": [
      "==================== Epoch 40/130 ====================\n",
      "Train Acc: 0.580729 | Train Loss: 1.067464\n",
      "  Val Acc: 0.576696 |   Val Loss: 1.263345 | LR: 0.001241\n"
     ]
    },
    {
     "name": "stderr",
     "output_type": "stream",
     "text": [
      "                                                                                                          \r"
     ]
    },
    {
     "name": "stdout",
     "output_type": "stream",
     "text": [
      "[Best updated] Saved checkpoint: supervised.pt (val_loss=1.108430)\n"
     ]
    },
    {
     "name": "stderr",
     "output_type": "stream",
     "text": [
      "                                                                                                          \r"
     ]
    },
    {
     "name": "stdout",
     "output_type": "stream",
     "text": [
      "==================== Epoch 50/130 ====================\n",
      "Train Acc: 0.592443 | Train Loss: 1.060926\n",
      "  Val Acc: 0.634218 |   Val Loss: 1.139877 | LR: 0.001113\n"
     ]
    },
    {
     "name": "stderr",
     "output_type": "stream",
     "text": [
      "                                                                                                          "
     ]
    },
    {
     "name": "stdout",
     "output_type": "stream",
     "text": [
      "Early stopping triggered at epoch 54 (val_loss 未改善 12 次)\n"
     ]
    },
    {
     "name": "stderr",
     "output_type": "stream",
     "text": [
      "\r"
     ]
    }
   ],
   "source": [
    "################################################################################\n",
    "#     You can adjust those hyper parameters to loop for max_epochs times       #\n",
    "################################################################################\n",
    "max_epochs = 130\n",
    "log_interval = 10\n",
    "# 學習率調度器：CosineAnnealingLR\n",
    "# - T_max：學習率從初始值降到最小值所需的 epoch 數（設為總 epoch 數）\n",
    "# - eta_min：學習率的最小值，默認為 0\n",
    "# - 使用餘弦退火策略，學習率會平滑地從初始值降到最小值\n",
    "scheduler = optim.lr_scheduler.CosineAnnealingLR(optimizer, T_max=max_epochs, eta_min=0.0003)\n",
    "\n",
    "train_acc_list = []\n",
    "train_loss_list = []\n",
    "val_acc_list = []\n",
    "val_loss_list = []\n",
    "\n",
    "\n",
    "# -------- Early stopping 參數 --------\n",
    "patience = 12  # 如果驗證集連續 N 回合沒有改善就停止\n",
    "best_val_loss = float('inf')\n",
    "patience_counter = 0\n",
    "best_model_state = None\n",
    "# ------------------------------------\n",
    "\n",
    "\n",
    "for epoch in range(1, max_epochs + 1):\n",
    "    use_mix = (epoch >= max_epochs // 3)   # 例如後 2/3 訓練才開\n",
    "    train_acc, train_loss = train_with_augmentation(\n",
    "        train_loader, model, criterion, optimizer,\n",
    "        use_mixup=use_mix, use_cutmix=use_mix,\n",
    "        mixup_alpha=0.2, cutmix_alpha=1.0,\n",
    "        epoch=epoch, total_epochs=max_epochs\n",
    "    )\n",
    "    val_acc, val_loss     = val(val_loader, model, criterion, epoch=epoch, total_epochs=max_epochs)\n",
    "\n",
    "    train_acc_list.append(train_acc)\n",
    "    train_loss_list.append(train_loss)\n",
    "    val_acc_list.append(val_acc)\n",
    "    val_loss_list.append(val_loss)\n",
    "\n",
    "    scheduler.step()\n",
    "\n",
    "    # 紀錄最佳模型權重\n",
    "    if val_loss < best_val_loss:\n",
    "        best_val_loss = val_loss\n",
    "        patience_counter = 0\n",
    "        # 深拷貝一份模型權重\n",
    "        best_model_state = {k: v.cpu().clone() for k, v in model.state_dict().items()}\n",
    "        print(f\"[Best updated] Saved checkpoint: {'supervised.pt'} (val_loss={best_val_loss:.6f})\")\n",
    "    else:\n",
    "        patience_counter += 1\n",
    "\n",
    "    # 每 log_interval 輸出一次\n",
    "    if epoch % log_interval == 0:\n",
    "        lr = optimizer.param_groups[0]['lr']\n",
    "        print('=' * 20, f'Epoch {epoch}/{max_epochs}', '=' * 20)\n",
    "        print('Train Acc: {:.6f} | Train Loss: {:.6f}'.format(train_acc, train_loss))\n",
    "        print('  Val Acc: {:.6f} |   Val Loss: {:.6f} | LR: {:.6f}'.format(val_acc, val_loss, lr))\n",
    "\n",
    "    # 判斷是否早停\n",
    "    if patience_counter >= patience:\n",
    "        print(f'Early stopping triggered at epoch {epoch} (val_loss 未改善 {patience} 次)')\n",
    "        break\n",
    "\n",
    "################################################################################\n",
    "#                               End of your code                               #\n",
    "################################################################################"
   ]
  },
  {
   "cell_type": "markdown",
   "metadata": {},
   "source": [
    "#### 選擇訓練策略\n",
    "\n",
    "您現在有兩種訓練函數可用：\n",
    "\n",
    "**1. 標準訓練（原始版本）**\n",
    "```python\n",
    "train_acc, train_loss = train(train_loader, model, criterion, optimizer, epoch, total_epochs)\n",
    "```\n",
    "\n",
    "**2. 增強訓練（支援 MixUp/CutMix）**\n",
    "```python\n",
    "train_acc, train_loss = train_with_augmentation(\n",
    "    train_loader, model, criterion, optimizer,\n",
    "    use_mixup=True,    # 啟用 MixUp\n",
    "    use_cutmix=True,   # 啟用 CutMix\n",
    "    mixup_alpha=0.2,   # MixUp 強度\n",
    "    cutmix_alpha=1.0,  # CutMix 強度\n",
    "    epoch=epoch, \n",
    "    total_epochs=total_epochs\n",
    ")\n",
    "```\n",
    "\n",
    "**建議**：前 20-30 個 epoch 使用標準訓練，之後再啟用 MixUp/CutMix 以獲得最佳效果。"
   ]
  },
  {
   "cell_type": "code",
   "execution_count": 32,
   "metadata": {
    "id": "Y3d4vPxSg-Xw"
   },
   "outputs": [],
   "source": [
    "# save your well-trained state_dict of model\n",
    "SUPERVISED_CKPT = 'supurvised.pt'\n",
    "torch.save(model.state_dict(), SUPERVISED_CKPT)"
   ]
  },
  {
   "cell_type": "markdown",
   "metadata": {
    "id": "9reJHZ5Rg-Xp"
   },
   "source": [
    "#### Visualize accuracy and loss"
   ]
  },
  {
   "cell_type": "code",
   "execution_count": 33,
   "metadata": {
    "colab": {
     "base_uri": "https://localhost:8080/",
     "height": 765
    },
    "id": "lvHqE7Svg-Xv",
    "outputId": "be8f83d5-6b1b-4b28-940a-5943eedbbbf2"
   },
   "outputs": [
    {
     "data": {
      "image/png": "[encoded data removed]",
      "text/plain": [
       "<Figure size 1200x400 with 1 Axes>"
      ]
     },
     "metadata": {},
     "output_type": "display_data"
    },
    {
     "data": {
      "image/png": "[encoded data removed]",
      "text/plain": [
       "<Figure size 1200x400 with 1 Axes>"
      ]
     },
     "metadata": {},
     "output_type": "display_data"
    },
    {
     "name": "stdout",
     "output_type": "stream",
     "text": [
      "\n",
      "訓練完成統計：\n",
      "總訓練輪數：54\n",
      "最佳驗證準確率：0.6755\n",
      "最終訓練準確率：0.5820\n",
      "最終驗證準確率：0.6342\n"
     ]
    }
   ],
   "source": [
    "import matplotlib.pyplot as plt\n",
    "\n",
    "# 確保變數存在且有資料\n",
    "if 'train_loss_list' not in locals() or len(train_loss_list) == 0:\n",
    "    print(\"警告：找不到訓練資料或資料為空，無法繪製圖表\")\n",
    "else:\n",
    "    # 清除之前的圖形，避免記憶體累積\n",
    "    plt.close('all')\n",
    "    \n",
    "    # 繪製 Loss 曲線\n",
    "    plt.figure(figsize=(12, 4))\n",
    "    plt.plot(range(len(train_loss_list)), train_loss_list, label='train', linewidth=2)\n",
    "    plt.plot(range(len(val_loss_list)), val_loss_list, label='val', linewidth=2)\n",
    "    plt.legend(loc='best', fontsize=12)\n",
    "    plt.xlabel('Epoch', fontsize=12)\n",
    "    plt.ylabel('Loss', fontsize=12)\n",
    "    plt.title('Training and Validation Loss', fontsize=14)\n",
    "    plt.grid(True, alpha=0.3)\n",
    "    plt.tight_layout()\n",
    "    plt.show()\n",
    "    plt.close()  # 顯示後立即關閉，釋放記憶體\n",
    "    \n",
    "    # 繪製 Accuracy 曲線\n",
    "    plt.figure(figsize=(12, 4))\n",
    "    plt.plot(range(len(train_acc_list)), train_acc_list, label='train', linewidth=2)\n",
    "    plt.plot(range(len(val_acc_list)), val_acc_list, label='val', linewidth=2)\n",
    "    plt.legend(loc='best', fontsize=12)\n",
    "    plt.xlabel('Epoch', fontsize=12)\n",
    "    plt.ylabel('Accuracy', fontsize=12)\n",
    "    plt.title('Training and Validation Accuracy', fontsize=14)\n",
    "    plt.grid(True, alpha=0.3)\n",
    "    plt.tight_layout()\n",
    "    plt.show()\n",
    "    plt.close()  # 顯示後立即關閉，釋放記憶體\n",
    "    \n",
    "    # 輸出統計資訊\n",
    "    print(f\"\\n訓練完成統計：\")\n",
    "    print(f\"總訓練輪數：{len(train_loss_list)}\")\n",
    "    print(f\"最佳驗證準確率：{max(val_acc_list):.4f}\")\n",
    "    print(f\"最終訓練準確率：{train_acc_list[-1]:.4f}\")\n",
    "    print(f\"最終驗證準確率：{val_acc_list[-1]:.4f}\")"
   ]
  },
  {
   "cell_type": "markdown",
   "metadata": {
    "id": "5MvG08C8g-Xw"
   },
   "source": [
    "finish training your classifier, next you should use this classifer to predict unlabel images with pseduo label."
   ]
  },
  {
   "cell_type": "markdown",
   "metadata": {
    "id": "_UWP9DSGg-Xw"
   },
   "source": [
    "## Step2: Use unlabeled data to enhance model performance"
   ]
  },
  {
   "cell_type": "code",
   "execution_count": 34,
   "metadata": {
    "colab": {
     "base_uri": "https://localhost:8080/"
    },
    "id": "ybvV-G7Wg-Xw",
    "outputId": "95435b8e-4c07-4341-b602-853bc83a66f5"
   },
   "outputs": [
    {
     "data": {
      "text/plain": [
       "<All keys matched successfully>"
      ]
     },
     "execution_count": 34,
     "metadata": {},
     "output_type": "execute_result"
    }
   ],
   "source": [
    "# load the trained classifier weights\n",
    "ckpt = torch.load(SUPERVISED_CKPT, map_location=device)\n",
    "model.load_state_dict(ckpt)"
   ]
  },
  {
   "cell_type": "code",
   "execution_count": 35,
   "metadata": {
    "colab": {
     "base_uri": "https://localhost:8080/"
    },
    "id": "muTJHA-cg-Xx",
    "outputId": "737cf59d-511c-4e59-a09f-fcaf72764d07"
   },
   "outputs": [
    {
     "name": "stdout",
     "output_type": "stream",
     "text": [
      "Unlabeled pool size: 1202\n"
     ]
    }
   ],
   "source": [
    "# create a unlabeled data set list, we will use it later\n",
    "unlabeled_set_list = []\n",
    "for img in unlabeled_set:\n",
    "    unlabeled_set_list.append(img)\n",
    "\n",
    "print(\"Unlabeled pool size:\", len(unlabeled_set_list))"
   ]
  },
  {
   "cell_type": "markdown",
   "metadata": {
    "id": "ATMRMmIVg-Xy"
   },
   "source": [
    "### Use the trained classifier to generates pseudo-labels of a dataset."
   ]
  },
  {
   "cell_type": "code",
   "execution_count": 37,
   "metadata": {
    "id": "GWsix2t7g-Xy"
   },
   "outputs": [],
   "source": [
    "from tqdm import tqdm\n",
    "import torch.nn as nn\n",
    "from torch.utils.data import ConcatDataset\n",
    "###########################################################\n",
    "#   You can adjust the threshold to get better result !   #\n",
    "###########################################################\n",
    "def get_pseudo_labels(model, threshold=0.9):\n",
    "\n",
    "    global unlabeled_set_list\n",
    "    model.eval()\n",
    "    imgs_keep = []\n",
    "    labels_keep = []\n",
    "    remove_index = []\n",
    "    soft_max = nn.Softmax(dim=1)\n",
    "    with torch.no_grad():\n",
    "        for idx, img in enumerate(tqdm(unlabeled_set_list, desc=\"Pseudo-labeling\", leave=False)):\n",
    "            img = img.to(device)\n",
    "            img = img.unsqueeze(0)  # Add batch dimension\n",
    "            #####################################################################################\n",
    "            #     TODO:                                                                         #\n",
    "            #     1. Foward the data, Using torch.no_grad() accelerates the forward process     #\n",
    "            #     2. obtain the probability distributions by applying softmax on logits         #\n",
    "            #     3. Filter the data with threshold                                             #\n",
    "            #     4. Combine the labeled training data with the pseudo-labeled data             #\n",
    "            #        to construct a new training set. then removed                              #\n",
    "            #     5. the unlabeled data from unlabeled_set_list                                 #\n",
    "            #     hint: ConcatDataset                                                           #\n",
    "            #####################################################################################\n",
    "            # 1. 前向傳播（已在 torch.no_grad() 中，加速推論過程）\n",
    "            outputs = model(img)\n",
    "            # 2. 使用 softmax 獲取機率分布\n",
    "            probs = soft_max(outputs)\n",
    "\n",
    "            # 獲取最大機率和預測類別\n",
    "            max_prob, pred_label = torch.max(probs, 1)\n",
    "\n",
    "            # 3. 根據閾值篩選資料\n",
    "            if max_prob.item() >= threshold:\n",
    "                # 4. 將符合閾值的圖片和標籤加入保留列表\n",
    "                imgs_keep.append(img.squeeze(0).cpu())  # 移除 batch 維度並移到 CPU\n",
    "                labels_keep.append(pred_label.item())\n",
    "                # 5. 記錄要從未標記資料中移除的索引\n",
    "                remove_index.append(idx)\n",
    "            #####################################################################################\n",
    "            #                           End of your code                                        #\n",
    "            #####################################################################################\n",
    "\n",
    "    # Remove processed images from unlabeled list\n",
    "    for i in reversed(remove_index):\n",
    "        del unlabeled_set_list[i]\n",
    "\n",
    "    if imgs_keep:\n",
    "        # Stack on CPU first, then create TensorDataset\n",
    "        pseudo_imgs   = torch.stack(imgs_keep, dim=0)                      # [N, C, H, W] on CPU\n",
    "        pseudo_labels = torch.tensor(labels_keep, dtype=torch.long)        # [N] on CPU\n",
    "        pseudo_dataset = TensorDataset(pseudo_imgs, pseudo_labels)\n",
    "        taken = len(pseudo_dataset)\n",
    "    else:\n",
    "        pseudo_dataset = TensorDataset(torch.empty(0,3,224,224), torch.empty(0,dtype=torch.long))\n",
    "        taken = 0\n",
    "\n",
    "    print(f\"Labeled {taken} images this round. Remaining unlabeled: {len(unlabeled_set_list)}\")\n",
    "\n",
    "    # Clear GPU cache to free memory\n",
    "    torch.cuda.empty_cache()\n",
    "\n",
    "    return pseudo_dataset, taken"
   ]
  },
  {
   "cell_type": "markdown",
   "metadata": {
    "id": "X_IFcw2t-bl4"
   },
   "source": [
    "## Redeifine your optimizer if you want"
   ]
  },
  {
   "cell_type": "code",
   "execution_count": 38,
   "metadata": {
    "id": "XnjRklvo-bl4"
   },
   "outputs": [],
   "source": [
    "################################################################################\n",
    "# TODO: Define loss and optmizer functions                                     #\n",
    "# Try any loss or optimizer function and learning rate to get better result    #\n",
    "# hint: torch.nn and torch.optim                                               #\n",
    "################################################################################\n",
    "criterion = nn.CrossEntropyLoss(label_smoothing=0.1)  # 保留\n",
    "optimizer = optim.SGD(\n",
    "    model.parameters(),\n",
    "    lr=0.05,           # SGD 常用較大的初始學習率\n",
    "    momentum=0.9,\n",
    "    nesterov=True,\n",
    "    weight_decay=1e-4\n",
    ")\n",
    "################################################################################\n",
    "#                               End of your code                               #\n",
    "################################################################################\n",
    "criterion = criterion.to(device)"
   ]
  },
  {
   "cell_type": "markdown",
   "metadata": {
    "id": "DRPKdz_sg-Xz"
   },
   "source": [
    "### Train the model"
   ]
  },
  {
   "cell_type": "markdown",
   "metadata": {
    "id": "msM56s7kg-Xz"
   },
   "source": [
    "Let's define train function.  \n",
    "\n",
    "Use the **get_pseudo_labels** function to get the new training set, then construct a new data loader for training.\n",
    "\n",
    "It will iterate input data 1 epoch and update model with optmizer.  \n",
    "\n",
    "Finally, calculate mean loss and total accuracy."
   ]
  },
  {
   "cell_type": "code",
   "execution_count": null,
   "metadata": {
    "colab": {
     "base_uri": "https://localhost:8080/",
     "height": 218
    },
    "id": "EAeLnU3Ng-Xz",
    "outputId": "ddaed4c7-7580-4732-967b-be00290806ab"
   },
   "outputs": [
    {
     "name": "stderr",
     "output_type": "stream",
     "text": [
      "                                                                     "
     ]
    },
    {
     "name": "stdout",
     "output_type": "stream",
     "text": [
      "Labeled 73 images this round. Remaining unlabeled: 1129\n"
     ]
    },
    {
     "name": "stderr",
     "output_type": "stream",
     "text": [
      "\r"
     ]
    },
    {
     "ename": "NameError",
     "evalue": "name 'loader_kwargs' is not defined",
     "output_type": "error",
     "traceback": [
      "\u001b[1;31m---------------------------------------------------------------------------\u001b[0m",
      "\u001b[1;31mNameError\u001b[0m                                 Traceback (most recent call last)",
      "Cell \u001b[1;32mIn[39], line 47\u001b[0m\n\u001b[0;32m     45\u001b[0m         current_train_dataset \u001b[38;5;241m=\u001b[39m ConcatDataset([train_set] \u001b[38;5;241m+\u001b[39m all_pseudo_datasets)\n\u001b[0;32m     46\u001b[0m         \u001b[38;5;66;03m# 創建新的資料載入器\u001b[39;00m\n\u001b[1;32m---> 47\u001b[0m         train_loader_ssl \u001b[38;5;241m=\u001b[39m DataLoader(current_train_dataset, shuffle\u001b[38;5;241m=\u001b[39m\u001b[38;5;28;01mTrue\u001b[39;00m,drop_last\u001b[38;5;241m=\u001b[39m\u001b[38;5;28;01mTrue\u001b[39;00m, \u001b[38;5;241m*\u001b[39m\u001b[38;5;241m*\u001b[39mloader_kwargs)\n\u001b[0;32m     48\u001b[0m \u001b[38;5;66;03m#########################################################################################################\u001b[39;00m\n\u001b[0;32m     49\u001b[0m \u001b[38;5;66;03m#                                          End of your code                                             #\u001b[39;00m\n\u001b[0;32m     50\u001b[0m \u001b[38;5;66;03m#########################################################################################################\u001b[39;00m\n\u001b[0;32m     52\u001b[0m \u001b[38;5;28;01mtry\u001b[39;00m:\n\u001b[0;32m     53\u001b[0m     \u001b[38;5;66;03m# ---------- Training using the train function from above ----------\u001b[39;00m\n",
      "\u001b[1;31mNameError\u001b[0m: name 'loader_kwargs' is not defined"
     ]
    }
   ],
   "source": [
    "import sys\n",
    "sys.setrecursionlimit(1000000)\n",
    "\n",
    "#########################################################################################################\n",
    "#         You can adjust those hyper parameters like epochs or threshold for training                   #\n",
    "#########################################################################################################\n",
    "n_epochs = 100\n",
    "N = 1  # Update synthesis dataset every N epochs\n",
    "log_interval = 10  # Log every N epochs like supervised training\n",
    "best_acc = 0.0\n",
    "SELF_TRAIN_CKPT = 'self_training.pt'\n",
    "\n",
    "\n",
    "patience_ssl = 8                    # 連續多少個 epoch 沒改善就停\n",
    "best_val_loss_ssl = float('inf')    # 目前最佳驗證損失\n",
    "patience_counter_ssl = 0            # 沒改善的累計次數\n",
    "\n",
    "# 學習率調度器：CosineAnnealingLR (用於自我訓練階段)\n",
    "# - T_max：設為自我訓練的總 epoch 數\n",
    "# - eta_min：最小學習率設為初始學習率的 1/10\n",
    "scheduler_ssl = optim.lr_scheduler.CosineAnnealingLR(optimizer, T_max=n_epochs, eta_min=5e-5)\n",
    "\n",
    "\n",
    "# Initialize with original labeled data\n",
    "current_train_dataset = train_set\n",
    "train_loader_ssl = train_loader  # Initialize with original train loader\n",
    "all_pseudo_datasets = []  # Store all pseudo datasets to accumulate them\n",
    "\n",
    "for epoch in range(n_epochs):\n",
    "    #########################################################################################################\n",
    "    #    TODO:                                                                                              #\n",
    "    #    In each epoch, relabel the unlabeled dataset for semi-supervised learning.                         #\n",
    "    #    1. Obtain pseudo-labels for unlabeled data using trained model.(use get_pseudo_labels function)    #\n",
    "    #    2. Construct a new dataset and a data loader for training.                                         #\n",
    "    #    You can try different way to use the get_pseudo_label function maybe will get the better result.   #                                  #\n",
    "    #########################################################################################################\n",
    "    # 每 N 個 epochs 生成一次偽標籤\n",
    "    if (epoch + 1) % N == 0 and len(unlabeled_set_list) > 0:\n",
    "        # 1. 使用訓練好的模型為未標記資料生成偽標籤\n",
    "        pseudo_dataset, taken = get_pseudo_labels(model, threshold=0.9)\n",
    "        if taken > 0:\n",
    "            # 只保留最近的偽標籤資料集（避免累積過多錯誤）\n",
    "            all_pseudo_datasets = (all_pseudo_datasets + [pseudo_dataset])[-3:]  # 覆蓋而非累積\n",
    "            # 2. 合併原始訓練集與最新的偽標籤資料，構建新訓練集\n",
    "            current_train_dataset = ConcatDataset([train_set] + all_pseudo_datasets)\n",
    "            # 創建新的資料載入器\n",
    "            train_loader_ssl = DataLoader(current_train_dataset, shuffle=True,drop_last=True, pin_memory=torch.cuda.is_available())\n",
    "    #########################################################################################################\n",
    "    #                                          End of your code                                             #\n",
    "    #########################################################################################################\n",
    "\n",
    "    try:\n",
    "        # ---------- Training using the train function from above ----------\n",
    "        train_acc, train_loss = train(train_loader_ssl, model, criterion, optimizer, epoch=epoch+1, total_epochs=n_epochs)\n",
    "\n",
    "        # ---------- Validation ----------\n",
    "        valid_acc, valid_loss = val(val_loader, model, criterion, epoch=epoch+1, total_epochs=n_epochs)\n",
    "\n",
    "                # >>> [Early Stopping - SSL]：以驗證損失作為是否「改善」的判準 <<<\n",
    "        if valid_loss < best_val_loss_ssl:\n",
    "            best_val_loss_ssl = valid_loss\n",
    "            patience_counter_ssl = 0\n",
    "            # 也一併更新對應的 acc 記錄（僅供觀察，不作為 early stopping 判斷）\n",
    "            best_acc = max(best_acc, valid_acc)\n",
    "            torch.save(model.state_dict(), SELF_TRAIN_CKPT)  # 保存目前最佳權重\n",
    "        else:\n",
    "            patience_counter_ssl += 1\n",
    "        # <<< [Early Stopping - SSL] 結束 >>>\n",
    "\n",
    "        # 學習率調整\n",
    "        scheduler_ssl.step()\n",
    "\n",
    "        # 記錄/輸出\n",
    "        if (epoch + 1) % log_interval == 0:\n",
    "            lr = optimizer.param_groups[0]['lr']\n",
    "            total_pseudo = sum(len(dataset) for dataset in all_pseudo_datasets)\n",
    "            print('=' * 20, f'Epoch {epoch+1}/{n_epochs}', '=' * 20)\n",
    "            print('Train Acc: {:.6f} | Train Loss: {:.6f}'.format(train_acc, train_loss))\n",
    "            print('  Val Acc: {:.6f} |   Val Loss: {:.6f} | LR: {:.6f}'.format(valid_acc, valid_loss, lr))\n",
    "            print('Dataset Size: {} (original: {}, pseudo: {})'.format(len(current_train_dataset), len(train_set), total_pseudo))\n",
    "\n",
    "        # >>> [Early Stopping - SSL]：達到耐心上限則提前停止 <<<\n",
    "        if patience_counter_ssl >= patience_ssl:\n",
    "            print(f'[SSL] Early stopping at epoch {epoch+1}: val_loss 未改善 {patience_ssl} 次，最佳 val_loss={best_val_loss_ssl:.6f}')\n",
    "            break\n",
    "        # <<< [Early Stopping - SSL] 結束 >>>\n",
    "\n",
    "    except RuntimeError as e:\n",
    "        print(f\"CUDA error during training epoch {epoch+1}: {e}\")\n",
    "        torch.cuda.empty_cache()\n",
    "\n",
    "        # Optionally reduce batch size if memory error\n",
    "        if \"out of memory\" in str(e).lower():\n",
    "            new_batch_size = max(batch_size // 2, 1)\n",
    "            loader_kwargs_reduced = loader_kwargs.copy()\n",
    "            loader_kwargs_reduced['batch_size'] = new_batch_size\n",
    "            loader_kwargs_reduced['drop_last'] = True   # <— 補這行\n",
    "\n",
    "            train_loader_ssl = DataLoader(\n",
    "                current_train_dataset,\n",
    "                shuffle=True,\n",
    "                **loader_kwargs_reduced\n",
    "            )\n",
    "\n",
    "#########################################################################################################\n",
    "#                               End of your code                                                        #\n",
    "#########################################################################################################"
   ]
  },
  {
   "cell_type": "markdown",
   "metadata": {
    "id": "8awaE981g-X0"
   },
   "source": [
    "### Predict Result\n",
    "\n",
    "Predict the labesl based on testing set. Upload to [Kaggle](https://www.kaggle.com/t/a611e0096e5943cc99a1c0545be28c3c).\n",
    "\n",
    "**How to upload**\n",
    "\n",
    "1. Click the folder icon in the left hand side of Colab.\n",
    "2. Right click \"result.csv\". Select \"Download\"\n",
    "3. To kaggle. Click \"Submit Predictions\"\n",
    "4. Upload the result.csv\n",
    "5. System will automaticlaly calculate the accuracy of 50% dataset and publish this result to leaderboard."
   ]
  },
  {
   "cell_type": "code",
   "execution_count": null,
   "metadata": {
    "id": "DCeiMZwRg-X0"
   },
   "outputs": [],
   "source": [
    "# if you wanna load previous best model\n",
    "ckpt = torch.load('self_training.pt', map_location=device)\n",
    "model.load_state_dict(ckpt)"
   ]
  },
  {
   "cell_type": "code",
   "execution_count": null,
   "metadata": {
    "id": "UzuQekVhg-X0"
   },
   "outputs": [],
   "source": [
    "test_set = FlowerData(data_folder, split='test', mode='test', transform=transforms_test)\n",
    "test_loader = DataLoader(\n",
    "    test_set,\n",
    "    batch_size=batch_size,\n",
    "    num_workers=num_workers,\n",
    "    shuffle=False,\n",
    "    pin_memory=torch.cuda.is_available()\n",
    ")"
   ]
  },
  {
   "cell_type": "code",
   "execution_count": null,
   "metadata": {
    "id": "OhXdQLJ_g-X1"
   },
   "outputs": [],
   "source": [
    "def predict(input_data, model):\n",
    "    model.eval()\n",
    "    output_list = []\n",
    "    with torch.no_grad():\n",
    "        for images in input_data:\n",
    "            images = images.to(device)\n",
    "            outputs = model(images)\n",
    "            _, predicted = torch.max(outputs, 1)\n",
    "            output_list.extend(predicted.to('cpu').numpy().tolist())\n",
    "    return output_list"
   ]
  },
  {
   "cell_type": "code",
   "execution_count": null,
   "metadata": {
    "id": "NHAgTI4Jg-X1"
   },
   "outputs": [],
   "source": [
    "pred_indices = predict(test_loader, model)\n",
    "\n",
    "with open('result.csv', 'w', newline='') as csvFile:\n",
    "    writer = csv.DictWriter(csvFile, fieldnames=['ID', 'label'])\n",
    "    writer.writeheader()\n",
    "    for filename, pred in zip(test_set.paths, pred_indices):\n",
    "        filename = osp.basename(filename)  # Extract just the filename\n",
    "        writer.writerow({'ID': filename, 'label': CLASS_NAMES[int(pred)]})\n",
    "\n",
    "print(\"Saved predictions to result.csv\")"
   ]
  }
 ],
 "metadata": {
  "accelerator": "GPU",
  "colab": {
   "gpuType": "T4",
   "provenance": []
  },
  "kernelspec": {
   "display_name": "base",
   "language": "python",
   "name": "python3"
  },
  "language_info": {
   "codemirror_mode": {
    "name": "ipython",
    "version": 3
   },
   "file_extension": ".py",
   "mimetype": "text/x-python",
   "name": "python",
   "nbconvert_exporter": "python",
   "pygments_lexer": "ipython3",
   "version": "3.13.5"
  }
 },
 "nbformat": 4,
 "nbformat_minor": 0
}
